{
 "cells": [
  {
   "cell_type": "code",
   "execution_count": 28,
   "metadata": {},
   "outputs": [],
   "source": [
    "#Act like you are apart of the CDC and want to investigate the tuberculosis rate in the US for the year 2018...\n",
    "#We have tracked data in HTML format and want to run operations on the dataset"
   ]
  },
  {
   "cell_type": "code",
   "execution_count": 29,
   "metadata": {},
   "outputs": [
    {
     "data": {
      "text/plain": [
       "'\\nData Retreival\\n\\nImports: requests - package that enables you to pull data from a url\\n         BeautifulSoup [from bs4]  - package that enables you to parse and extract the data from the HTML format\\n\\nFunctions: Range() - gives a range vector from 0 to the input integer\\n\\t        len() - gives the number of elements of the input\\n            requests.get() - receive data from website\\n\\t    BeautfiulSoup.({html data}.content, “html.parser”) - parse HTML content\\n\\nMethods : .find() - find the first selected piece of html data by tag\\n\\t     .find_all() -find the all the selected pieces of html data by tag\\n\\t     ~find_all().get_text()  - extract the actual content from the html piece\\n\\t     .append() - to append elements to a list  [good to utilize in for loops] \\n'"
      ]
     },
     "execution_count": 29,
     "metadata": {},
     "output_type": "execute_result"
    }
   ],
   "source": [
    "\"\"\"\n",
    "Data Retreival\n",
    "\n",
    "Imports: requests - package that enables you to pull data from a url\n",
    "         BeautifulSoup [from bs4]  - package that enables you to parse and extract the data from the HTML format\n",
    "\n",
    "Functions: Range() - gives a range vector from 0 to the input integer\n",
    "\t        len() - gives the number of elements of the input\n",
    "            requests.get() - receive data from website\n",
    "\t    BeautfiulSoup.({html data}.content, “html.parser”) - parse HTML content\n",
    "\n",
    "Methods : .find() - find the first selected piece of html data by tag\n",
    "\t     .find_all() -find the all the selected pieces of html data by tag\n",
    "\t     ~find_all().get_text()  - extract the actual content from the html piece\n",
    "\t     .append() - to append elements to a list  [good to utilize in for loops] \n",
    "\"\"\""
   ]
  },
  {
   "cell_type": "code",
   "execution_count": 30,
   "metadata": {},
   "outputs": [],
   "source": [
    "from bs4 import BeautifulSoup\n",
    "import requests"
   ]
  },
  {
   "cell_type": "code",
   "execution_count": 31,
   "metadata": {},
   "outputs": [],
   "source": [
    "page = requests.get(\"https://data.cdc.gov/api/views/u3yt-gdfa/rows.xml?accessType=DOWNLOAD\")\n",
    "soup = BeautifulSoup(page.content, 'html.parser')"
   ]
  },
  {
   "cell_type": "code",
   "execution_count": 32,
   "metadata": {},
   "outputs": [
    {
     "data": {
      "text/plain": [
       "<reporting_area>UNITED STATES</reporting_area>"
      ]
     },
     "execution_count": 32,
     "metadata": {},
     "output_type": "execute_result"
    }
   ],
   "source": [
    "soup.find(\"reporting_area\")"
   ]
  },
  {
   "cell_type": "code",
   "execution_count": 33,
   "metadata": {},
   "outputs": [
    {
     "data": {
      "text/plain": [
       "'UNITED STATES'"
      ]
     },
     "execution_count": 33,
     "metadata": {},
     "output_type": "execute_result"
    }
   ],
   "source": [
    "soup.find_all('reporting_area')[0].get_text()"
   ]
  },
  {
   "cell_type": "code",
   "execution_count": 34,
   "metadata": {},
   "outputs": [],
   "source": [
    "##Create Variables in Python\n",
    "###Only want to analyze the variables regarding 2018"
   ]
  },
  {
   "cell_type": "code",
   "execution_count": 35,
   "metadata": {},
   "outputs": [],
   "source": [
    "Area = []\n",
    "\n",
    "for i in range(len(soup.find_all('reporting_area'))):\n",
    "    val = soup.find_all('reporting_area')[i].get_text()\n",
    "    Area.append(val)\n",
    "    \n",
    "\n",
    "Year = []\n",
    "\n",
    "for i in range(len(soup.find_all('mmwr_year'))):\n",
    "    val = soup.find_all('mmwr_year')[i].get_text()\n",
    "    Year.append(val)\n",
    "\n",
    "Quarter = []\n",
    "\n",
    "for i in range(len(soup.find_all('mmwr_quarter'))):\n",
    "    val = soup.find_all('mmwr_quarter')[i].get_text()\n",
    "    Quarter.append(val)\n",
    "\n",
    "Quarter_Total = []\n",
    "\n",
    "for i in range(len(soup.find_all('tuberculosis_current_quarter'))):\n",
    "    val = soup.find_all('tuberculosis_current_quarter')[0].get_text()\n",
    "    Quarter_Total.append(val)\n",
    "\n",
    "Cum2018_Total = []\n",
    "\n",
    "for i in range(len(soup.find_all('tuberculosis_cum_2018'))):\n",
    "    val = soup.find_all('tuberculosis_cum_2018')[i].get_text()\n",
    "    Cum2018_Total.append(val)"
   ]
  },
  {
   "cell_type": "code",
   "execution_count": 36,
   "metadata": {},
   "outputs": [
    {
     "data": {
      "text/plain": [
       "'\\nData Preparation\\n\\nImports : Pandas - package that gives all of us the data formats and operations we typically use when analyzing data\\n\\nFunctions : pd.DataFrame() - creates data frame of input\\n\\t       pd. Series() - creates column vector out of input [use to define dtype of interest\\n\\nMethods :  .iloc[] - indexing method used to index in the same format as R for dataframes ---> \\n                 [rows,columns]\\n'"
      ]
     },
     "execution_count": 36,
     "metadata": {},
     "output_type": "execute_result"
    }
   ],
   "source": [
    "\"\"\"\n",
    "Data Preparation\n",
    "\n",
    "Imports : Pandas - package that gives all of us the data formats and operations we typically use when analyzing data\n",
    "\n",
    "Functions : pd.DataFrame() - creates data frame of input\n",
    "\t       pd. Series() - creates column vector out of input [use to define dtype of interest\n",
    "\n",
    "Methods :  .iloc[] - indexing method used to index in the same format as R for dataframes ---> \n",
    "                 [rows,columns]\n",
    "\"\"\""
   ]
  },
  {
   "cell_type": "code",
   "execution_count": 37,
   "metadata": {},
   "outputs": [],
   "source": [
    "##Redefine the Tainted Variables that are mssing observations (Quarter_Total,Cum2018_Total)\n",
    "##n = 335"
   ]
  },
  {
   "cell_type": "code",
   "execution_count": 38,
   "metadata": {},
   "outputs": [
    {
     "data": {
      "text/plain": [
       "290"
      ]
     },
     "execution_count": 38,
     "metadata": {},
     "output_type": "execute_result"
    }
   ],
   "source": [
    "len(Quarter_Total)"
   ]
  },
  {
   "cell_type": "code",
   "execution_count": 39,
   "metadata": {},
   "outputs": [
    {
     "data": {
      "text/plain": [
       "317"
      ]
     },
     "execution_count": 39,
     "metadata": {},
     "output_type": "execute_result"
    }
   ],
   "source": [
    "len(Cum2018_Total)\n",
    "###they dropped values in the loop because they didn't have a values in the observation"
   ]
  },
  {
   "cell_type": "code",
   "execution_count": 40,
   "metadata": {},
   "outputs": [],
   "source": [
    "Quarter_Total = []\n",
    "\n",
    "for i in range(len(soup.find_all(['tuberculosis_current_quarter','tuberculosis_current_quarter_flag']))):\n",
    "    val = soup.find_all(['tuberculosis_current_quarter','tuberculosis_current_quarter_flag'])[i].get_text()\n",
    "    Quarter_Total.append(val)\n",
    "\n",
    "Cum2018_Total = []\n",
    "\n",
    "for i in range(len(soup.find_all(['tuberculosis_cum_2018','tuberculosis_cum_2018_flag']))):\n",
    "    val = soup.find_all(['tuberculosis_cum_2018','tuberculosis_cum_2018_flag'])[i].get_text()\n",
    "    Cum2018_Total.append(val)"
   ]
  },
  {
   "cell_type": "code",
   "execution_count": 41,
   "metadata": {},
   "outputs": [],
   "source": [
    "##Replace hyphens with 0 for Quater_Total, and fix Cum2018_Total observations depending on Quarter_Total"
   ]
  },
  {
   "cell_type": "code",
   "execution_count": 42,
   "metadata": {},
   "outputs": [],
   "source": [
    "import pandas as pd\n",
    "r_data = pd.DataFrame({ \"a\" : Quarter_Total, \"b\" : Cum2018_Total})"
   ]
  },
  {
   "cell_type": "code",
   "execution_count": 43,
   "metadata": {},
   "outputs": [],
   "source": [
    "for i in range(len(r_data)):\n",
    "    if r_data.iloc[i,0] == \"-\" and r_data.iloc[i,1] == \"-\"  :\n",
    "            r_data.iloc[i,0] = 0\n",
    "            r_data.iloc[i,1] = 0\n",
    "    elif r_data.iloc[i,0] == \"-\" and r_data.iloc[i,1] != \"-\"  :\n",
    "            r_data.iloc[i,0] = 0\n",
    "            r_data.iloc[i,1] = r_data.iloc[i,1]\n",
    "            \n",
    "###Keep in mind when you use .iloc() you all the rows switch to the object datatype"
   ]
  },
  {
   "cell_type": "code",
   "execution_count": 44,
   "metadata": {},
   "outputs": [],
   "source": [
    "##Store all the data with a dictionary then apply it to a DataFrame"
   ]
  },
  {
   "cell_type": "code",
   "execution_count": 45,
   "metadata": {},
   "outputs": [
    {
     "data": {
      "text/html": [
       "<div>\n",
       "<style scoped>\n",
       "    .dataframe tbody tr th:only-of-type {\n",
       "        vertical-align: middle;\n",
       "    }\n",
       "\n",
       "    .dataframe tbody tr th {\n",
       "        vertical-align: top;\n",
       "    }\n",
       "\n",
       "    .dataframe thead th {\n",
       "        text-align: right;\n",
       "    }\n",
       "</style>\n",
       "<table border=\"1\" class=\"dataframe\">\n",
       "  <thead>\n",
       "    <tr style=\"text-align: right;\">\n",
       "      <th></th>\n",
       "      <th>Area</th>\n",
       "      <th>Quarter</th>\n",
       "      <th>Year</th>\n",
       "      <th>Quarter_Total</th>\n",
       "      <th>Cum2018_Total</th>\n",
       "    </tr>\n",
       "  </thead>\n",
       "  <tbody>\n",
       "    <tr>\n",
       "      <th>0</th>\n",
       "      <td>UNITED STATES</td>\n",
       "      <td>1</td>\n",
       "      <td>2018</td>\n",
       "      <td>1216</td>\n",
       "      <td>1216</td>\n",
       "    </tr>\n",
       "    <tr>\n",
       "      <th>1</th>\n",
       "      <td>NEW ENGLAND</td>\n",
       "      <td>1</td>\n",
       "      <td>2018</td>\n",
       "      <td>57</td>\n",
       "      <td>57</td>\n",
       "    </tr>\n",
       "    <tr>\n",
       "      <th>2</th>\n",
       "      <td>MID. ATLANTIC</td>\n",
       "      <td>1</td>\n",
       "      <td>2018</td>\n",
       "      <td>271</td>\n",
       "      <td>271</td>\n",
       "    </tr>\n",
       "    <tr>\n",
       "      <th>3</th>\n",
       "      <td>NEW YORK CITY</td>\n",
       "      <td>1</td>\n",
       "      <td>2018</td>\n",
       "      <td>157</td>\n",
       "      <td>157</td>\n",
       "    </tr>\n",
       "    <tr>\n",
       "      <th>4</th>\n",
       "      <td>E.N. CENTRAL</td>\n",
       "      <td>1</td>\n",
       "      <td>2018</td>\n",
       "      <td>125</td>\n",
       "      <td>125</td>\n",
       "    </tr>\n",
       "  </tbody>\n",
       "</table>\n",
       "</div>"
      ],
      "text/plain": [
       "            Area Quarter  Year  Quarter_Total  Cum2018_Total\n",
       "0  UNITED STATES       1  2018           1216           1216\n",
       "1    NEW ENGLAND       1  2018             57             57\n",
       "2  MID. ATLANTIC       1  2018            271            271\n",
       "3  NEW YORK CITY       1  2018            157            157\n",
       "4   E.N. CENTRAL       1  2018            125            125"
      ]
     },
     "execution_count": 45,
     "metadata": {},
     "output_type": "execute_result"
    }
   ],
   "source": [
    "data = {'Area' : Area ,'Quarter' : Quarter,'Year' : Year,'Quarter_Total' : pd.Series(r_data.a).astype(int), 'Cum2018_Total' : pd.Series(r_data.b).astype(int)}\n",
    "df = pd.DataFrame(data)\n",
    "df.head()        "
   ]
  },
  {
   "cell_type": "code",
   "execution_count": 46,
   "metadata": {},
   "outputs": [
    {
     "data": {
      "text/plain": [
       "'\\nData Exploration\\n\\nFunctions : pd.qcut() - cut data into bins that equalize the counts in each bin (e.g. 100 obs →      qcut(,4) = 4 bins of 25 observations)\\n\\nMethods : .groupby() - group the observations of your data by a specific variable\\n\\t     .mean() - find mean of grouped data\\n\\t     .std() - find all the std’s of your data…. Just playing actually the standard deviation\\n\\t     .describe() - find the mean,std, min, max, and IQR of Data\\n'"
      ]
     },
     "execution_count": 46,
     "metadata": {},
     "output_type": "execute_result"
    }
   ],
   "source": [
    "\"\"\"\n",
    "Data Exploration\n",
    "\n",
    "Functions : pd.qcut() - cut data into bins that equalize the counts in each bin (e.g. 100 obs →      qcut(,4) = 4 bins of 25 observations)\n",
    "\n",
    "Methods : .groupby() - group the observations of your data by a specific variable\n",
    "\t     .mean() - find mean of grouped data\n",
    "\t     .std() - find all the std’s of your data…. Just playing actually the standard deviation\n",
    "\t     .describe() - find the mean,std, min, max, and IQR of Data\n",
    "\"\"\""
   ]
  },
  {
   "cell_type": "code",
   "execution_count": 47,
   "metadata": {},
   "outputs": [],
   "source": [
    "##Depending on your model and overall purpose of the DS project you want to analyze different things\n",
    "##In this case I want to guage the metrics of Quarter_Total and the Cumilative Totals"
   ]
  },
  {
   "cell_type": "code",
   "execution_count": 48,
   "metadata": {},
   "outputs": [
    {
     "data": {
      "text/plain": [
       "70.48358208955224"
      ]
     },
     "execution_count": 48,
     "metadata": {},
     "output_type": "execute_result"
    }
   ],
   "source": [
    "df.Quarter_Total.mean()"
   ]
  },
  {
   "cell_type": "code",
   "execution_count": 49,
   "metadata": {},
   "outputs": [
    {
     "data": {
      "text/plain": [
       "206.6214947553004"
      ]
     },
     "execution_count": 49,
     "metadata": {},
     "output_type": "execute_result"
    }
   ],
   "source": [
    "df.Quarter_Total.std()"
   ]
  },
  {
   "cell_type": "code",
   "execution_count": 50,
   "metadata": {},
   "outputs": [
    {
     "data": {
      "text/plain": [
       "Area\n",
       "ALABAMA             21.2\n",
       "ALASKA               9.6\n",
       "AMER. SAMOA          0.2\n",
       "ARIZONA             13.0\n",
       "ARKANSAS             8.8\n",
       "C.N.M.I.             1.8\n",
       "CALIFORNIA         377.6\n",
       "COLORADO            13.8\n",
       "CONNECTICUT          9.8\n",
       "DELAWARE             1.6\n",
       "DIST. OF COL.        7.6\n",
       "E.N. CENTRAL       171.6\n",
       "E.S. CENTRAL        88.2\n",
       "FLORIDA             99.8\n",
       "GEORGIA             54.2\n",
       "GUAM                 9.4\n",
       "HAWAII              17.6\n",
       "IDAHO                3.2\n",
       "ILLINOIS            75.6\n",
       "INDIANA             32.6\n",
       "IOWA                 4.0\n",
       "KANSAS               0.4\n",
       "KENTUCKY            14.4\n",
       "LOUISIANA           17.4\n",
       "MAINE                3.4\n",
       "MARYLAND            40.8\n",
       "MASSACHUSETTS       38.0\n",
       "MICHIGAN            14.2\n",
       "MID. ATLANTIC      295.0\n",
       "MINNESOTA           40.6\n",
       "                   ...  \n",
       "NEW HAMPSHIRE        0.2\n",
       "NEW JERSEY          57.2\n",
       "NEW MEXICO           6.6\n",
       "NEW YORK            48.6\n",
       "NEW YORK CITY      140.0\n",
       "NORTH CAROLINA      37.0\n",
       "NORTH DAKOTA         2.4\n",
       "OHIO                43.8\n",
       "OKLAHOMA            17.8\n",
       "OREGON              17.4\n",
       "PACIFIC            438.2\n",
       "PENNSYLVANIA        49.2\n",
       "PUERTO RICO          6.4\n",
       "RHODE ISLAND         4.0\n",
       "S. ATLANTIC        304.0\n",
       "SOUTH CAROLINA      19.4\n",
       "SOUTH DAKOTA         2.0\n",
       "TENNESSEE           34.6\n",
       "TEXAS               62.8\n",
       "UNITED STATES     1568.2\n",
       "UTAH                 4.2\n",
       "VERMONT              0.4\n",
       "VIRGIN ISL.          0.0\n",
       "VIRGINIA            41.8\n",
       "W.N. CENTRAL        51.8\n",
       "W.S. CENTRAL       106.8\n",
       "WASHINGTON          16.0\n",
       "WEST VIRGINIA        1.8\n",
       "WISCONSIN            5.4\n",
       "WYOMING              0.0\n",
       "Name: Quarter_Total, Length: 67, dtype: float64"
      ]
     },
     "execution_count": 50,
     "metadata": {},
     "output_type": "execute_result"
    }
   ],
   "source": [
    "df.groupby(\"Area\")[\"Quarter_Total\"].mean()"
   ]
  },
  {
   "cell_type": "code",
   "execution_count": 51,
   "metadata": {},
   "outputs": [
    {
     "data": {
      "text/plain": [
       "Quarter\n",
       "1    54.597015\n",
       "2    69.507463\n",
       "3    63.805970\n",
       "4    82.253731\n",
       "Name: Quarter_Total, dtype: float64"
      ]
     },
     "execution_count": 51,
     "metadata": {},
     "output_type": "execute_result"
    }
   ],
   "source": [
    "df.groupby(\"Quarter\")[\"Quarter_Total\"].mean()"
   ]
  },
  {
   "cell_type": "code",
   "execution_count": 52,
   "metadata": {},
   "outputs": [
    {
     "data": {
      "text/plain": [
       "Quarter\n",
       "1     54.597015\n",
       "2    143.910448\n",
       "3    237.238806\n",
       "4    362.850746\n",
       "Name: Cum2018_Total, dtype: float64"
      ]
     },
     "execution_count": 52,
     "metadata": {},
     "output_type": "execute_result"
    }
   ],
   "source": [
    "df.groupby(\"Quarter\")[\"Cum2018_Total\"].mean()"
   ]
  },
  {
   "cell_type": "code",
   "execution_count": 53,
   "metadata": {},
   "outputs": [
    {
     "data": {
      "text/html": [
       "<div>\n",
       "<style scoped>\n",
       "    .dataframe tbody tr th:only-of-type {\n",
       "        vertical-align: middle;\n",
       "    }\n",
       "\n",
       "    .dataframe tbody tr th {\n",
       "        vertical-align: top;\n",
       "    }\n",
       "\n",
       "    .dataframe thead th {\n",
       "        text-align: right;\n",
       "    }\n",
       "</style>\n",
       "<table border=\"1\" class=\"dataframe\">\n",
       "  <thead>\n",
       "    <tr style=\"text-align: right;\">\n",
       "      <th></th>\n",
       "      <th>count</th>\n",
       "      <th>mean</th>\n",
       "      <th>std</th>\n",
       "      <th>min</th>\n",
       "      <th>25%</th>\n",
       "      <th>50%</th>\n",
       "      <th>75%</th>\n",
       "      <th>max</th>\n",
       "    </tr>\n",
       "    <tr>\n",
       "      <th>Quarter_Total</th>\n",
       "      <th></th>\n",
       "      <th></th>\n",
       "      <th></th>\n",
       "      <th></th>\n",
       "      <th></th>\n",
       "      <th></th>\n",
       "      <th></th>\n",
       "      <th></th>\n",
       "    </tr>\n",
       "  </thead>\n",
       "  <tbody>\n",
       "    <tr>\n",
       "      <th>(-0.001, 2.0]</th>\n",
       "      <td>77.0</td>\n",
       "      <td>0.636364</td>\n",
       "      <td>0.825723</td>\n",
       "      <td>0.0</td>\n",
       "      <td>0.00</td>\n",
       "      <td>0.0</td>\n",
       "      <td>1.00</td>\n",
       "      <td>2.0</td>\n",
       "    </tr>\n",
       "    <tr>\n",
       "      <th>(2.0, 10.0]</th>\n",
       "      <td>62.0</td>\n",
       "      <td>6.064516</td>\n",
       "      <td>2.401304</td>\n",
       "      <td>3.0</td>\n",
       "      <td>4.00</td>\n",
       "      <td>6.0</td>\n",
       "      <td>8.00</td>\n",
       "      <td>10.0</td>\n",
       "    </tr>\n",
       "    <tr>\n",
       "      <th>(10.0, 25.8]</th>\n",
       "      <td>62.0</td>\n",
       "      <td>17.725806</td>\n",
       "      <td>4.093855</td>\n",
       "      <td>11.0</td>\n",
       "      <td>15.00</td>\n",
       "      <td>17.0</td>\n",
       "      <td>21.00</td>\n",
       "      <td>25.0</td>\n",
       "    </tr>\n",
       "    <tr>\n",
       "      <th>(25.8, 60.0]</th>\n",
       "      <td>70.0</td>\n",
       "      <td>42.900000</td>\n",
       "      <td>9.655141</td>\n",
       "      <td>27.0</td>\n",
       "      <td>33.25</td>\n",
       "      <td>44.0</td>\n",
       "      <td>51.00</td>\n",
       "      <td>60.0</td>\n",
       "    </tr>\n",
       "    <tr>\n",
       "      <th>(60.0, 1828.0]</th>\n",
       "      <td>64.0</td>\n",
       "      <td>298.203125</td>\n",
       "      <td>399.877925</td>\n",
       "      <td>61.0</td>\n",
       "      <td>81.25</td>\n",
       "      <td>148.5</td>\n",
       "      <td>319.25</td>\n",
       "      <td>1828.0</td>\n",
       "    </tr>\n",
       "  </tbody>\n",
       "</table>\n",
       "</div>"
      ],
      "text/plain": [
       "                count        mean         std   min    25%    50%     75%  \\\n",
       "Quarter_Total                                                               \n",
       "(-0.001, 2.0]    77.0    0.636364    0.825723   0.0   0.00    0.0    1.00   \n",
       "(2.0, 10.0]      62.0    6.064516    2.401304   3.0   4.00    6.0    8.00   \n",
       "(10.0, 25.8]     62.0   17.725806    4.093855  11.0  15.00   17.0   21.00   \n",
       "(25.8, 60.0]     70.0   42.900000    9.655141  27.0  33.25   44.0   51.00   \n",
       "(60.0, 1828.0]   64.0  298.203125  399.877925  61.0  81.25  148.5  319.25   \n",
       "\n",
       "                   max  \n",
       "Quarter_Total           \n",
       "(-0.001, 2.0]      2.0  \n",
       "(2.0, 10.0]       10.0  \n",
       "(10.0, 25.8]      25.0  \n",
       "(25.8, 60.0]      60.0  \n",
       "(60.0, 1828.0]  1828.0  "
      ]
     },
     "execution_count": 53,
     "metadata": {},
     "output_type": "execute_result"
    }
   ],
   "source": [
    "quartiles = pd.qcut(df.Quarter_Total,5)\n",
    "grouped = df.Quarter_Total.groupby(quartiles)\n",
    "grouped.describe()"
   ]
  },
  {
   "cell_type": "code",
   "execution_count": 54,
   "metadata": {},
   "outputs": [
    {
     "data": {
      "text/plain": [
       "'\\nEach data has different complications for retrieving and preparing the data. The dataset has unique analysis for exploration as well.\\n\\nEvery dataset will go through the DS method (Reteival,Preparation,Exploration, then Visualization/Modeling) but each instance is different and will never quite be uniform\\n\\nThis is why a creative sense while being a Data Scientist is very impotant \\n\\nHere are some links to datasets for you guys to try for you guys to try these skills on :\\n\\n1. [HTML Example] Here is dataset measuring tobacco use of various forms which each observations being its own survey. \\n\\nLink:\\nhttps://chronicdata.cdc.gov/views/tbfm-vbpp/rows.xml?accessType=DOWNLOAD\\n\\n(Documentation : https://catalog.data.gov/dataset/national-adult-tobacco-survey-nats-51225)\\n\\n\\n2. [CSV Example] Here is a link to a page containing the csv file of a dataset of popular baby names in the New York Area\\n\\nLink:\\nhttps://catalog.data.gov/dataset/most-popular-baby-names-by-sex-and-mothers-ethnic-group-new-york-city-8c742\\n'"
      ]
     },
     "execution_count": 54,
     "metadata": {},
     "output_type": "execute_result"
    }
   ],
   "source": [
    "\"\"\"\n",
    "Each data has different complications for retrieving and preparing the data. The dataset has unique analysis for exploration as well.\n",
    "\n",
    "Every dataset will go through the DS method (Reteival,Preparation,Exploration, then Visualization/Modeling) but each instance is different and will never quite be uniform\n",
    "\n",
    "This is why a creative sense while being a Data Scientist is very impotant \n",
    "\n",
    "Here are some links to datasets for you guys to try for you guys to try these skills on :\n",
    "\n",
    "1. [HTML Example] Here is dataset measuring tobacco use of various forms which each observations being its own survey. \n",
    "\n",
    "Link:\n",
    "https://chronicdata.cdc.gov/views/tbfm-vbpp/rows.xml?accessType=DOWNLOAD\n",
    "\n",
    "(Documentation : https://catalog.data.gov/dataset/national-adult-tobacco-survey-nats-51225)\n",
    "\n",
    "\n",
    "2. [CSV Example] Here is a link to a page containing the csv file of a dataset of popular baby names in the New York Area\n",
    "\n",
    "Link:\n",
    "https://catalog.data.gov/dataset/most-popular-baby-names-by-sex-and-mothers-ethnic-group-new-york-city-8c742\n",
    "\"\"\""
   ]
  }
 ],
 "metadata": {
  "kernelspec": {
   "display_name": "Python 3",
   "language": "python",
   "name": "python3"
  },
  "language_info": {
   "codemirror_mode": {
    "name": "ipython",
    "version": 3
   },
   "file_extension": ".py",
   "mimetype": "text/x-python",
   "name": "python",
   "nbconvert_exporter": "python",
   "pygments_lexer": "ipython3",
   "version": "3.6.5"
  }
 },
 "nbformat": 4,
 "nbformat_minor": 2
}
