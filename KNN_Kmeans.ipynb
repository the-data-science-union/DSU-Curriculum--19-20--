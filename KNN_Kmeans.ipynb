{
 "cells": [
  {
   "cell_type": "code",
   "execution_count": 13,
   "metadata": {},
   "outputs": [],
   "source": [
    "##KNN Algorithm\n",
    "import pandas as pd\n",
    "\n",
    "import numpy as np"
   ]
  },
  {
   "cell_type": "code",
   "execution_count": 14,
   "metadata": {},
   "outputs": [],
   "source": [
    "##import the csv file from EpiCollect 5\n",
    "\n",
    "data = pd.read_csv(\"BGData.csv\")\n",
    "\n",
    "##Make into Dataframe\n",
    "data = pd.DataFrame(data)\n",
    "\n",
    "X = data.iloc[:, [8,9,10]].values\n",
    "X = pd.DataFrame(X, columns = [\"Moisture\",\"Width\",\"Length\"])\n",
    "y = data.iloc[:, 6].values\n",
    "y = pd.Series(y).str.lower()\n",
    "y = pd.DataFrame(y,columns = [\"Type\"])\n"
   ]
  },
  {
   "cell_type": "code",
   "execution_count": 15,
   "metadata": {},
   "outputs": [],
   "source": [
    "#Preprocessing\n",
    "\n",
    "from sklearn.model_selection import train_test_split\n",
    "\n",
    "X_train, X_test, y_train, y_test = train_test_split(X, y, test_size=0.20)\n",
    "\n",
    "\n",
    "\n",
    "#We replace the \"test\" data with the data of the unknown speciman \n",
    "\n",
    "X_test = np.array([[16,3,1],[40,2,3],[28,5,2],[38,3,1],[42,4,8]])\n",
    "X_test = pd.DataFrame(X_test)"
   ]
  },
  {
   "cell_type": "code",
   "execution_count": 16,
   "metadata": {},
   "outputs": [],
   "source": [
    "#Scale the data for better estimation of overall prediction\n",
    "\n",
    "from sklearn.preprocessing import StandardScaler\n",
    "\n",
    "scaler = StandardScaler()\n",
    "scaler.fit(X_train)\n",
    "\n",
    "\n",
    "X_train = scaler.transform(X_train)\n",
    "\n",
    "X_test = scaler.transform(X_test)"
   ]
  },
  {
   "cell_type": "code",
   "execution_count": 17,
   "metadata": {},
   "outputs": [
    {
     "name": "stderr",
     "output_type": "stream",
     "text": [
      "C:\\Users\\Nate Barrett\\Anaconda3\\lib\\site-packages\\ipykernel_launcher.py:7: DataConversionWarning: A column-vector y was passed when a 1d array was expected. Please change the shape of y to (n_samples, ), for example using ravel().\n",
      "  import sys\n"
     ]
    }
   ],
   "source": [
    "#Imply the classification algorithm\n",
    "\n",
    "from sklearn.neighbors import KNeighborsClassifier\n",
    "\n",
    "classifier = KNeighborsClassifier(n_neighbors=1)\n",
    "\n",
    "classifier.fit(X_train, y_train)\n",
    "\n",
    "\n",
    "\n",
    "y_pred = pd.Series(classifier.predict(X_test))\n",
    "\n",
    "results = pd.DataFrame(X_test, columns = [\"Moisture\",\"Width\",\"Length\"])\n",
    "results['pred'] = y_pred"
   ]
  },
  {
   "cell_type": "code",
   "execution_count": 18,
   "metadata": {},
   "outputs": [
    {
     "data": {
      "text/html": [
       "<div>\n",
       "<style scoped>\n",
       "    .dataframe tbody tr th:only-of-type {\n",
       "        vertical-align: middle;\n",
       "    }\n",
       "\n",
       "    .dataframe tbody tr th {\n",
       "        vertical-align: top;\n",
       "    }\n",
       "\n",
       "    .dataframe thead th {\n",
       "        text-align: right;\n",
       "    }\n",
       "</style>\n",
       "<table border=\"1\" class=\"dataframe\">\n",
       "  <thead>\n",
       "    <tr style=\"text-align: right;\">\n",
       "      <th></th>\n",
       "      <th>Moisture</th>\n",
       "      <th>Width</th>\n",
       "      <th>Length</th>\n",
       "      <th>pred</th>\n",
       "    </tr>\n",
       "  </thead>\n",
       "  <tbody>\n",
       "    <tr>\n",
       "      <td>0</td>\n",
       "      <td>-1.517344</td>\n",
       "      <td>-0.142970</td>\n",
       "      <td>-0.773231</td>\n",
       "      <td>polygonaceae</td>\n",
       "    </tr>\n",
       "    <tr>\n",
       "      <td>1</td>\n",
       "      <td>-0.592160</td>\n",
       "      <td>-0.222153</td>\n",
       "      <td>-0.618370</td>\n",
       "      <td>berberidaceae</td>\n",
       "    </tr>\n",
       "    <tr>\n",
       "      <td>2</td>\n",
       "      <td>-1.054752</td>\n",
       "      <td>0.015397</td>\n",
       "      <td>-0.695801</td>\n",
       "      <td>lamiaceae</td>\n",
       "    </tr>\n",
       "    <tr>\n",
       "      <td>3</td>\n",
       "      <td>-0.669259</td>\n",
       "      <td>-0.142970</td>\n",
       "      <td>-0.773231</td>\n",
       "      <td>aizoaceae</td>\n",
       "    </tr>\n",
       "    <tr>\n",
       "      <td>4</td>\n",
       "      <td>-0.515062</td>\n",
       "      <td>-0.063787</td>\n",
       "      <td>-0.231217</td>\n",
       "      <td>rosaceae</td>\n",
       "    </tr>\n",
       "  </tbody>\n",
       "</table>\n",
       "</div>"
      ],
      "text/plain": [
       "   Moisture     Width    Length           pred\n",
       "0 -1.517344 -0.142970 -0.773231   polygonaceae\n",
       "1 -0.592160 -0.222153 -0.618370  berberidaceae\n",
       "2 -1.054752  0.015397 -0.695801      lamiaceae\n",
       "3 -0.669259 -0.142970 -0.773231      aizoaceae\n",
       "4 -0.515062 -0.063787 -0.231217       rosaceae"
      ]
     },
     "execution_count": 18,
     "metadata": {},
     "output_type": "execute_result"
    }
   ],
   "source": [
    "#Lets see!\n",
    "results"
   ]
  },
  {
   "cell_type": "code",
   "execution_count": 19,
   "metadata": {},
   "outputs": [],
   "source": [
    "#Confusion Matrix (Tally Chart)"
   ]
  },
  {
   "cell_type": "code",
   "execution_count": 20,
   "metadata": {},
   "outputs": [],
   "source": [
    "#Kmeans\n",
    "from sklearn.cluster import KMeans\n",
    "\n",
    "X = data.iloc[:, [8,9,10]].values\n",
    "X = pd.DataFrame(X, columns = [\"Moisture\",\"Width\",\"Length\"])\n",
    "X_train = X.iloc[:44,]\n",
    "\n",
    "y_test = data.iloc[45:,7].values\n",
    "y_test = list(y_test)\n",
    "y_test = [x.title() for x in y_test]"
   ]
  },
  {
   "cell_type": "code",
   "execution_count": 21,
   "metadata": {},
   "outputs": [
    {
     "data": {
      "text/plain": [
       "['Monocot',\n",
       " 'Monocot',\n",
       " 'Monocot',\n",
       " 'Monocot',\n",
       " 'Monocot',\n",
       " 'Monocot',\n",
       " 'Monocot',\n",
       " 'Monocot',\n",
       " 'Monocot',\n",
       " 'Dicot',\n",
       " 'Dicot',\n",
       " 'Dicot',\n",
       " 'Monocot',\n",
       " 'Monocot',\n",
       " 'Dicot',\n",
       " 'Monocot',\n",
       " 'Monocot',\n",
       " 'Monocot',\n",
       " 'Monocot',\n",
       " 'Dicot',\n",
       " 'Monocot',\n",
       " 'Dicot',\n",
       " 'Monocot',\n",
       " 'Monocot',\n",
       " 'Monocot',\n",
       " 'Dicot',\n",
       " 'Dicot',\n",
       " 'Monocot',\n",
       " 'Monocot',\n",
       " 'Dicot',\n",
       " 'Dicot',\n",
       " 'Dicot',\n",
       " 'Monocot',\n",
       " 'Dicot',\n",
       " 'Dicot',\n",
       " 'Monocot',\n",
       " 'Dicot',\n",
       " 'Monocot',\n",
       " 'Monocot',\n",
       " 'Monocot',\n",
       " 'Monocot',\n",
       " 'Monocot',\n",
       " 'Monocot',\n",
       " 'Monocot']"
      ]
     },
     "execution_count": 21,
     "metadata": {},
     "output_type": "execute_result"
    }
   ],
   "source": [
    "kmeans = KMeans(n_clusters=2, random_state=0).fit(X_train)\n",
    "labels = kmeans.labels_\n",
    "\n",
    "#make our cluster labels fit our instance\n",
    "labels = [\"Dicot\" if x== 1 else \"Monocot\" for x in labels]\n",
    "labels"
   ]
  },
  {
   "cell_type": "code",
   "execution_count": 22,
   "metadata": {},
   "outputs": [
    {
     "data": {
      "text/plain": [
       "['Dicot',\n",
       " 'Monocot',\n",
       " 'Monocot',\n",
       " 'Dicot',\n",
       " 'Dicot',\n",
       " 'Monocot',\n",
       " 'Dicot',\n",
       " 'Monocot',\n",
       " 'Dicot',\n",
       " 'Monocot',\n",
       " 'Dicot',\n",
       " 'Monocot',\n",
       " 'Monocot',\n",
       " 'Monocot',\n",
       " 'Monocot',\n",
       " 'Monocot',\n",
       " 'Monocot',\n",
       " 'Dicot',\n",
       " 'Dicot',\n",
       " 'Monocot',\n",
       " 'Dicot',\n",
       " 'Dicot',\n",
       " 'Monocot',\n",
       " 'Dicot',\n",
       " 'Monocot',\n",
       " 'Dicot',\n",
       " 'Monocot',\n",
       " 'Monocot',\n",
       " 'Monocot',\n",
       " 'Dicot',\n",
       " 'Monocot',\n",
       " 'Monocot',\n",
       " 'Monocot',\n",
       " 'Monocot',\n",
       " 'Monocot',\n",
       " 'Dicot',\n",
       " 'Dicot',\n",
       " 'Monocot',\n",
       " 'Dicot',\n",
       " 'Monocot',\n",
       " 'Dicot',\n",
       " 'Dicot',\n",
       " 'Monocot',\n",
       " 'Dicot',\n",
       " 'Dicot']"
      ]
     },
     "execution_count": 22,
     "metadata": {},
     "output_type": "execute_result"
    }
   ],
   "source": [
    "#Make first 45 observations the test data\n",
    "X_test = X.iloc[45:,]\n",
    "\n",
    "\n",
    "predictions = kmeans.predict(X_test)\n",
    "predictions = [\"Dicot\" if x== 1 else \"Monocot\" for x in predictions]\n",
    "predictions"
   ]
  },
  {
   "cell_type": "code",
   "execution_count": 23,
   "metadata": {},
   "outputs": [
    {
     "data": {
      "text/plain": [
       "array([[11, 18],\n",
       "       [ 9,  7]], dtype=int64)"
      ]
     },
     "execution_count": 23,
     "metadata": {},
     "output_type": "execute_result"
    }
   ],
   "source": [
    "#Confusion Matrix (Performance Measure) [Think like Punett Square]\n",
    "\n",
    "\n",
    "from sklearn.metrics import confusion_matrix\n",
    "\n",
    "confusion_matrix(y_test, predictions)\n",
    "\n",
    "#Is this accurate?"
   ]
  }
 ],
 "metadata": {
  "kernelspec": {
   "display_name": "Python 3",
   "language": "python",
   "name": "python3"
  },
  "language_info": {
   "codemirror_mode": {
    "name": "ipython",
    "version": 3
   },
   "file_extension": ".py",
   "mimetype": "text/x-python",
   "name": "python",
   "nbconvert_exporter": "python",
   "pygments_lexer": "ipython3",
   "version": "3.7.4"
  }
 },
 "nbformat": 4,
 "nbformat_minor": 2
}
